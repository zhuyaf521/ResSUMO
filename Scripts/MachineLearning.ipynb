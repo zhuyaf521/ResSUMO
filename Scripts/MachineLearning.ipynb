{
 "cells": [
  {
   "cell_type": "markdown",
   "id": "cb3fa496",
   "metadata": {},
   "source": [
    "# Machine Learning Model Structure"
   ]
  },
  {
   "cell_type": "code",
   "execution_count": 6,
   "id": "1d43da16",
   "metadata": {},
   "outputs": [],
   "source": [
    "RF = RandomForestClassifier(n_estimators=370,\n",
    "    bootstrap=True,\n",
    "    oob_score=True,\n",
    "    min_samples_split=7,\n",
    "    min_samples_leaf =1,\n",
    "    max_features='sqrt',\n",
    "    n_jobs=-1)"
   ]
  },
  {
   "cell_type": "code",
   "execution_count": 8,
   "id": "6c18e705",
   "metadata": {},
   "outputs": [],
   "source": [
    "GBM = LGBMClassifier(boosting_type='gbdt',\n",
    "    objective = 'binary',\n",
    "    is_unbalance = False,\n",
    "    metric = 'binary_logloss,auc',\n",
    "    max_depth = 25,\n",
    "    num_leaves = 51,\n",
    "    learning_rate = 0.05,\n",
    "    feature_fraction = 0.7,\n",
    "    min_child_samples=20,\n",
    "    min_child_weight=0.001,\n",
    "    bagging_fraction = 1,\n",
    "    bagging_freq = 1,\n",
    "    reg_alpha = 0.9,\n",
    "    reg_lambda = 10,\n",
    "    cat_smooth = 0,\n",
    "    num_iterations = 450,   \n",
    "    )"
   ]
  }
 ],
 "metadata": {
  "kernelspec": {
   "display_name": "Python [conda env:root]",
   "language": "python",
   "name": "conda-root-py"
  },
  "language_info": {
   "codemirror_mode": {
    "name": "ipython",
    "version": 3
   },
   "file_extension": ".py",
   "mimetype": "text/x-python",
   "name": "python",
   "nbconvert_exporter": "python",
   "pygments_lexer": "ipython3",
   "version": "3.8.8"
  }
 },
 "nbformat": 4,
 "nbformat_minor": 5
}
