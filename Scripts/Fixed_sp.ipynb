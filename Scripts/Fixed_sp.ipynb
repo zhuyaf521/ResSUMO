{
 "cells": [
  {
   "cell_type": "code",
   "execution_count": 1,
   "id": "d756f5ea",
   "metadata": {},
   "outputs": [],
   "source": [
    "import numpy as np\n",
    "import re, os\n",
    "import Function"
   ]
  },
  {
   "cell_type": "code",
   "execution_count": 2,
   "id": "b92076de",
   "metadata": {},
   "outputs": [],
   "source": [
    "parent_dir = os.path.abspath(os.path.dirname(os.getcwd()))"
   ]
  },
  {
   "cell_type": "code",
   "execution_count": 3,
   "id": "e3f3dc94",
   "metadata": {},
   "outputs": [],
   "source": [
    "# Create folder\n",
    "def mkdir(path):\n",
    "    path=path.strip()\n",
    "    path=path.rstrip(\"\\\\\")\n",
    "    # Check if the path exists\n",
    "    isExists=os.path.exists(path)\n",
    "    if not isExists:\n",
    "        # Create the directory if it doesn't exist\n",
    "        os.makedirs(path)\n",
    "    else:\n",
    "        # Do not create directory if it exists\n",
    "        pass"
   ]
  },
  {
   "cell_type": "code",
   "execution_count": 4,
   "id": "cf1b3fce",
   "metadata": {},
   "outputs": [],
   "source": [
    "def read_pre_res(filepath):\n",
    "    with open(filepath) as f:\n",
    "        records = f.readlines()\n",
    "        f.close()\n",
    "        res = []\n",
    "        for i in records:\n",
    "            if 'fold ' in i:\n",
    "                fold_res = []\n",
    "                res.append(fold_res)\n",
    "                continue\n",
    "            fold_res.append(i.rstrip().split('\\t') if i.rstrip() != '' else None)\n",
    "    return np.array(res).astype(np.float64)"
   ]
  },
  {
   "cell_type": "code",
   "execution_count": 5,
   "id": "1eb5a761",
   "metadata": {},
   "outputs": [],
   "source": [
    "def calculate_cutoff(data, sp_value=0.65):\n",
    "    cutoffs = []\n",
    "    for fold in data:\n",
    "        neg = []\n",
    "        for value in fold:\n",
    "            if value[0] == 0.0:\n",
    "                neg.append(list(value))\n",
    "        negative = np.array(neg)\n",
    "        all_n = len(negative)\n",
    "        tn = int(sp_value*all_n)\n",
    "        fp = all_n - tn\n",
    "        data = negative[np.argsort(-negative[:,1])]\n",
    "        cutoff = data[:,1][fp-1]\n",
    "        cutoffs.append(cutoff)\n",
    "    return cutoffs"
   ]
  },
  {
   "cell_type": "code",
   "execution_count": 6,
   "id": "52daade7",
   "metadata": {},
   "outputs": [],
   "source": [
    "filepathCv = os.path.join(parent_dir, r'Results\\RSCNN_ZScale\\zscale_pre_cv.txt')\n",
    "filepathInd = os.path.join(parent_dir, r'Results\\RSCNN_ZScale\\zscale_pre_ind.txt')"
   ]
  },
  {
   "cell_type": "code",
   "execution_count": 7,
   "id": "7fce4fa8",
   "metadata": {},
   "outputs": [],
   "source": [
    "Code_Name = 'Fixd_sp'"
   ]
  },
  {
   "cell_type": "code",
   "execution_count": 10,
   "id": "92050dd6",
   "metadata": {},
   "outputs": [],
   "source": [
    "predict_cv_res = read_pre_res(filepathCv)\n",
    "cutoffs_cv = calculate_cutoff(predict_cv_res, sp_value=0.65)\n",
    "predict_ind_res = read_pre_res(filepathInd)\n",
    "cutoffs_ind = calculate_cutoff(predict_ind_res, sp_value=0.65)\n",
    "out = os.path.join(parent_dir, 'Results')\n",
    "subout = os.path.join(out, Code_Name)\n",
    "mkdir(subout)\n",
    "save = os.path.join(subout, Code_Name.lower())"
   ]
  },
  {
   "cell_type": "code",
   "execution_count": 11,
   "id": "4ed8c97a",
   "metadata": {},
   "outputs": [],
   "source": [
    "cv_metrics = Function.fixed_sp_calculate_metrics_list(predict_cv_res, cutoffs_cv, label_column=0, score_column=1, po_label=1)\n",
    "Function.save_prediction_metrics_list(cv_metrics, save + '_metrics_cv.txt')\n",
    "ind_metrics = Function.fixed_sp_calculate_metrics_list(predict_ind_res, cutoffs_ind, label_column=0, score_column=1, po_label=1)\n",
    "Function.save_prediction_metrics_list(ind_metrics, save + '_metrics_ind.txt')"
   ]
  },
  {
   "cell_type": "code",
   "execution_count": null,
   "id": "19fe950f",
   "metadata": {},
   "outputs": [],
   "source": []
  }
 ],
 "metadata": {
  "kernelspec": {
   "display_name": "Python 3",
   "language": "python",
   "name": "python3"
  },
  "language_info": {
   "codemirror_mode": {
    "name": "ipython",
    "version": 3
   },
   "file_extension": ".py",
   "mimetype": "text/x-python",
   "name": "python",
   "nbconvert_exporter": "python",
   "pygments_lexer": "ipython3",
   "version": "3.8.8"
  }
 },
 "nbformat": 4,
 "nbformat_minor": 5
}
